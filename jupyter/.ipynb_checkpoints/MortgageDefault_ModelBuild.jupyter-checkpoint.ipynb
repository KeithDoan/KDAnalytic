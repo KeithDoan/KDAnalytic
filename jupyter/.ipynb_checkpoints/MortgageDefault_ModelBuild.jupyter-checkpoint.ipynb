{
 "cells": [
  {
   "cell_type": "markdown",
   "metadata": {
    "deletable": true,
    "editable": true
   },
   "source": [
    "# Predict Mortgage Applicant Default with Keras Tensor Flow\n",
    "\n",
    "This notebook guides you through the basic concepts to construct a neural net model with the Keras library - a wrapper library for low level deep learning libraries such as Tensorflow. It includes instructions on how to import the predictive data, train the model to predict client behaviors, and save the model to your DSX Machine Learning to be used for model management and online scoring.\n",
    "\n",
    "Some familiarity with Python is recommended. This notebook runs on Python 2 with Spark 2.\n",
    "\n",
    "\n",
    "## Describe the business problem\n",
    "\n",
    "Suppose a bank is concerned about the potential for loans not to be repaid. If previous loan default data can be used to predict which potential customers are liable to have problems repaying loans, these \"bad risk\" customers can either be declined a loan or offered alternative products.\n",
    "\n",
    "This notebook focuses on using existing loan default data to predict potential future defaulters.\n",
    "\n",
    "To train the machine learning model, a sample data set is provided and run through in this notebook that specifies the data and variables.\n",
    "\n",
    "## Table of Contents\n",
    "\n",
    "1. [Import libraries](#libraries)<br>\n",
    "2. [Import the Data](#import)<br>\n",
    "3. [Keras Sequential Modelling](#modelling)<br>\n",
    "3. [Model Evaluation](#evaluation)<br>\n",
    "5. [Save the Model](#save)<br>\n",
    "6. [Summary](#summary)<br>\n",
    "  "
   ]
  },
  {
   "cell_type": "markdown",
   "metadata": {
    "deletable": true,
    "editable": true
   },
   "source": [
    "<a id=\"libraries\"></a>\n",
    "## Import Libraries"
   ]
  },
  {
   "cell_type": "code",
   "execution_count": null,
   "metadata": {
    "collapsed": false,
    "deletable": true,
    "editable": true
   },
   "outputs": [],
   "source": [
    "%matplotlib inline\n",
    "import numpy as np\n",
    "import matplotlib.pyplot as plt\n",
    "\n",
    "from sklearn.model_selection import train_test_split\n",
    "import seaborn as sns\n",
    "\n",
    "import keras\n",
    "from keras.models import Sequential\n",
    "from keras.layers import Dense, Activation"
   ]
  },
  {
   "cell_type": "markdown",
   "metadata": {
    "deletable": true,
    "editable": true
   },
   "source": [
    "<a id=\"import\"></a>\n",
    "## Load Data"
   ]
  },
  {
   "cell_type": "code",
   "execution_count": null,
   "metadata": {
    "collapsed": false
   },
   "outputs": [],
   "source": [
    "\n",
    "\n",
    "import os, pandas as pd\n",
    "# Add asset from file system\n",
    "loan = pd.read_csv(os.environ['DSX_PROJECT_DIR']+'/datasets/mortgagee_refined.csv')\n",
    "loan.head()\n",
    "\n"
   ]
  },
  {
   "cell_type": "markdown",
   "metadata": {
    "deletable": true,
    "editable": true
   },
   "source": [
    "### Dataset Description"
   ]
  },
  {
   "cell_type": "code",
   "execution_count": null,
   "metadata": {
    "collapsed": false,
    "deletable": true,
    "editable": true
   },
   "outputs": [],
   "source": [
    "print \"There are \" + str(len(loan)) + \" observations in the dataset.\"\n",
    "print \"There are \" + str(len(loan.columns)) + \" variables in the dataset.\"\n",
    "\n",
    "print \"\\n******************Descriptive statistics*****************************\\n\"\n",
    "print loan.describe()\n",
    "\n",
    "print \"\\n******************Dataset Quick View*****************************\\n\""
   ]
  },
  {
   "cell_type": "markdown",
   "metadata": {
    "deletable": true,
    "editable": true
   },
   "source": [
    "### PreviouslyDefaulted as the model label"
   ]
  },
  {
   "cell_type": "code",
   "execution_count": null,
   "metadata": {
    "collapsed": false
   },
   "outputs": [],
   "source": [
    "!pip install --upgrade --user brunel==2.3 "
   ]
  },
  {
   "cell_type": "code",
   "execution_count": null,
   "metadata": {
    "collapsed": false
   },
   "outputs": [],
   "source": [
    "import brunel"
   ]
  },
  {
   "cell_type": "code",
   "execution_count": null,
   "metadata": {
    "collapsed": false,
    "deletable": true,
    "editable": true
   },
   "outputs": [],
   "source": [
    "%brunel data('loan') x(PreviouslyDefaulted) y(#count) color(PreviouslyDefaulted) bar tooltip(#all)"
   ]
  },
  {
   "cell_type": "markdown",
   "metadata": {
    "deletable": true,
    "editable": true
   },
   "source": [
    "### Residence as a model feature?"
   ]
  },
  {
   "cell_type": "code",
   "execution_count": null,
   "metadata": {
    "collapsed": false,
    "deletable": true,
    "editable": true
   },
   "outputs": [],
   "source": [
    "%brunel data('loan') polar stack bar y(#count) color(Residence) percent(#count) label(#count) tooltip(#all) | stack bar x(Residence) y(#count) color(PreviouslyDefaulted) bin(Residence) percent(#count) label(#count) tooltip(#all) :: width=1200, height=400\n",
    "    "
   ]
  },
  {
   "cell_type": "markdown",
   "metadata": {
    "deletable": true,
    "editable": true
   },
   "source": [
    "### Property Sales Price as a model feature?"
   ]
  },
  {
   "cell_type": "code",
   "execution_count": null,
   "metadata": {
    "collapsed": false,
    "deletable": true,
    "editable": true
   },
   "outputs": [],
   "source": [
    "from scipy.stats import chi2_contingency,ttest_ind\n",
    "import matplotlib.pyplot as plt\n",
    "import seaborn as sns\n",
    "%matplotlib inline\n",
    "\n",
    "sub_yes = loan[loan[\"PreviouslyDefaulted\"] == 1]\n",
    "sub_no = loan[loan[\"PreviouslyDefaulted\"] == 0]\n",
    "\n",
    "p_value = ttest_ind(sub_yes['SalePrice'], sub_no[\"SalePrice\"], equal_var = False)[1]\n",
    "    \n",
    "fig, axs = plt.subplots(nrows= 1, figsize=(13, 5))\n",
    "sns.boxplot(x = \"PreviouslyDefaulted\", y = \"SalePrice\", data = loan, showfliers=False, palette=\"Set2\")\n",
    "if p_value < .05:\n",
    "    plt.title(\"SalePrice\" + \"\\n P value:\" + str(p_value) + \"\\n The distributions for the two groups are significantly different!\" + \"\\n Default: mean/std.: \" + str(sub_yes[\"SalePrice\"].describe()[1]) + \"/\" + str(sub_yes[\"SalePrice\"].describe()[2]) + \"\\n Non-default: mean/std.: \" + str(sub_no[\"SalePrice\"].describe()[1]) + \"/\" + str(sub_no[\"SalePrice\"].describe()[2]))\n",
    "else:\n",
    "    plt.title(\"SalePrice\" + \"\\n P value:\" + str(p_value) + \"\\n Default: mean/std.: \" + str(sub_yes[\"SalePrice\"].describe()[1]) + \"/\" + str(sub_yes[\"SalePrice\"].describe()[2]) + \"\\n Non-default: mean/std.: \" + str(sub_yes[\"SalePrice\"].describe()[1]) + \"/\" + str(sub_no[\"SalePrice\"].describe()[2]))"
   ]
  },
  {
   "cell_type": "markdown",
   "metadata": {
    "deletable": true,
    "editable": true
   },
   "source": [
    "### Loan Amount as a model feature?"
   ]
  },
  {
   "cell_type": "code",
   "execution_count": null,
   "metadata": {
    "collapsed": false,
    "deletable": true,
    "editable": true
   },
   "outputs": [],
   "source": [
    "from scipy.stats import chi2_contingency,ttest_ind\n",
    "import matplotlib.pyplot as plt\n",
    "import seaborn as sns\n",
    "%matplotlib inline\n",
    "\n",
    "sub_yes = loan[loan[\"PreviouslyDefaulted\"] == 1]\n",
    "sub_no = loan[loan[\"PreviouslyDefaulted\"] == 0]\n",
    "\n",
    "p_value = ttest_ind(sub_yes['LoanAmount'], sub_no[\"LoanAmount\"], equal_var = False)[1]\n",
    "    \n",
    "fig, axs = plt.subplots(nrows= 1, figsize=(13, 5))\n",
    "sns.boxplot(x = \"PreviouslyDefaulted\", y = \"LoanAmount\", data = loan, showfliers=False, palette=\"Set2\")\n",
    "if p_value < .05:\n",
    "    plt.title(\"LoanAmount\" + \"\\n P value:\" + str(p_value) + \"\\n The distributions for the two groups are significantly different!\" + \"\\n Default: mean/std.: \" + str(sub_yes[\"LoanAmount\"].describe()[1]) + \"/\" + str(sub_yes[\"LoanAmount\"].describe()[2]) + \"\\n Non-default: mean/std.: \" + str(sub_no[\"LoanAmount\"].describe()[1]) + \"/\" + str(sub_no[\"LoanAmount\"].describe()[2]))\n",
    "else:\n",
    "    plt.title(\"LoanAmount\" + \"\\n P value:\" + str(p_value) + \"\\n Default: mean/std.: \" + str(sub_yes[\"LoanAmount\"].describe()[1]) + \"/\" + str(sub_yes[\"LoanAmount\"].describe()[2]) + \"\\n Non-default: mean/std.: \" + str(sub_yes[\"LoanAmount\"].describe()[1]) + \"/\" + str(sub_no[\"LoanAmount\"].describe()[2]))"
   ]
  },
  {
   "cell_type": "markdown",
   "metadata": {
    "deletable": true,
    "editable": true
   },
   "source": [
    "### Data field correlation"
   ]
  },
  {
   "cell_type": "code",
   "execution_count": null,
   "metadata": {
    "collapsed": false,
    "deletable": true,
    "editable": true
   },
   "outputs": [],
   "source": [
    "plt.figure(figsize=(12, 8))\n",
    "\n",
    "corr_df = loan.iloc[:,1:].corr()\n",
    "\n",
    "sns.heatmap(corr_df, \n",
    "            xticklabels = corr_df.columns.values,\n",
    "            yticklabels = corr_df.columns.values,\n",
    "            annot = True);"
   ]
  },
  {
   "cell_type": "markdown",
   "metadata": {
    "deletable": true,
    "editable": true
   },
   "source": [
    "## Data preparation"
   ]
  },
  {
   "cell_type": "code",
   "execution_count": null,
   "metadata": {
    "collapsed": false,
    "deletable": true,
    "editable": true
   },
   "outputs": [],
   "source": [
    "# remove non-feature columns  \n",
    "loan = loan.drop(['ID','City','SalePrice','Residence','LoanAmount','Location','NumberOfCards'], axis=1)"
   ]
  },
  {
   "cell_type": "code",
   "execution_count": null,
   "metadata": {
    "collapsed": false,
    "deletable": true,
    "editable": true
   },
   "outputs": [],
   "source": [
    "# display data types\n",
    "loan.dtypes"
   ]
  },
  {
   "cell_type": "code",
   "execution_count": null,
   "metadata": {
    "attributes": {
     "classes": [],
     "id": "",
     "n": "2"
    },
    "collapsed": false,
    "deletable": true,
    "editable": true
   },
   "outputs": [],
   "source": [
    "# display data types\n",
    "loan.dtypes"
   ]
  },
  {
   "cell_type": "code",
   "execution_count": null,
   "metadata": {
    "collapsed": true,
    "deletable": true,
    "editable": true
   },
   "outputs": [],
   "source": [
    "# Convert the predictor type to Float to facilitate matrix multiplication with weights and biases within the neural network.\n",
    "cols = ['Age','EducationLevel','YearsWithCurrentEmployer','YearsAtCurrentAddress','Income']\n",
    "loan[cols] = loan[cols].applymap(np.float)"
   ]
  },
  {
   "cell_type": "code",
   "execution_count": null,
   "metadata": {
    "collapsed": false,
    "deletable": true,
    "editable": true
   },
   "outputs": [],
   "source": [
    "# data types after the conversion\n",
    "loan.dtypes"
   ]
  },
  {
   "cell_type": "markdown",
   "metadata": {
    "deletable": true,
    "editable": true
   },
   "source": [
    "<a id=\"modelling\"></a>\n",
    "## Keras Sequential Modelling"
   ]
  },
  {
   "cell_type": "markdown",
   "metadata": {
    "deletable": true,
    "editable": true
   },
   "source": [
    "We will fit a **Keras Sequential model**. We will use the Keras framework as a front end, and use the Tensorflow library as a backend."
   ]
  },
  {
   "cell_type": "code",
   "execution_count": null,
   "metadata": {
    "collapsed": false,
    "deletable": true,
    "editable": true
   },
   "outputs": [],
   "source": [
    "# split the data into training and testing sets\n",
    "X_train, X_test, y_train, y_test = train_test_split(loan[['Age','EducationLevel','YearsWithCurrentEmployer','YearsAtCurrentAddress','Income','DebtIncomeRatio','CreditCardDebt','OtherDebt']],loan['PreviouslyDefaulted'])"
   ]
  },
  {
   "cell_type": "code",
   "execution_count": null,
   "metadata": {
    "collapsed": true,
    "deletable": true,
    "editable": true
   },
   "outputs": [],
   "source": [
    "model = Sequential([\n",
    "    Dense(12, input_dim=8, activation='relu'),\n",
    "    Dense(8, activation='relu'),\n",
    "    Dense(2, activation='softmax'),\n",
    "])"
   ]
  },
  {
   "cell_type": "code",
   "execution_count": null,
   "metadata": {
    "collapsed": false,
    "deletable": true,
    "editable": true
   },
   "outputs": [],
   "source": [
    "model.summary()"
   ]
  },
  {
   "cell_type": "markdown",
   "metadata": {
    "deletable": true,
    "editable": true
   },
   "source": [
    "The model has 3 layers in the neural network. The first layer requires an input_dim parameter, which denotes the number of input features. The final layer uses the softmax function, which is used primarily in categorical predictions. We also denote that we are looking for 2 categories of default status (0 and 1)"
   ]
  },
  {
   "cell_type": "code",
   "execution_count": null,
   "metadata": {
    "collapsed": true,
    "deletable": true,
    "editable": true
   },
   "outputs": [],
   "source": [
    "model.compile(loss='categorical_crossentropy', optimizer='adam', metrics=['accuracy'])"
   ]
  },
  {
   "cell_type": "markdown",
   "metadata": {
    "deletable": true,
    "editable": true
   },
   "source": [
    "The above cell denotes that we will be using the **adam optimizer**, a fairly well-known and efficient optimizer, along with the **categorical_crossentropy loss**, as we are predicted a binary class output. We will use the accuracy score metric to evaluate how our model performs during each training epoch."
   ]
  },
  {
   "cell_type": "code",
   "execution_count": null,
   "metadata": {
    "collapsed": true,
    "deletable": true,
    "editable": true
   },
   "outputs": [],
   "source": [
    "y_classes = keras.utils.to_categorical(y_train, num_classes=2)"
   ]
  },
  {
   "cell_type": "markdown",
   "metadata": {
    "deletable": true,
    "editable": true
   },
   "source": [
    "The above cell converts our single column output vector into a 2 column vector, one column for each predicted output. This will allow Keras to assign predicted probabilities to each class, ultimately selected the most probable class for its prediction."
   ]
  },
  {
   "cell_type": "code",
   "execution_count": null,
   "metadata": {
    "collapsed": false,
    "deletable": true,
    "editable": true
   },
   "outputs": [],
   "source": [
    "model.fit(X_train.values,y_classes, epochs=99, batch_size=1000, verbose=0)\n",
    "model.fit(X_train.values,y_classes, epochs=1, batch_size=1000, verbose=2)"
   ]
  },
  {
   "cell_type": "markdown",
   "metadata": {
    "deletable": true,
    "editable": true
   },
   "source": [
    "<a id=\"evaluation\"></a>\n",
    "## Model Evaluation"
   ]
  },
  {
   "cell_type": "markdown",
   "metadata": {
    "deletable": true,
    "editable": true
   },
   "source": [
    "We run a few evaluation metrics on our model using the accuracy_score and confusion_matrix metrics"
   ]
  },
  {
   "cell_type": "code",
   "execution_count": null,
   "metadata": {
    "collapsed": true,
    "deletable": true,
    "editable": true
   },
   "outputs": [],
   "source": [
    "from sklearn.metrics import accuracy_score, confusion_matrix"
   ]
  },
  {
   "cell_type": "code",
   "execution_count": null,
   "metadata": {
    "collapsed": false,
    "deletable": true,
    "editable": true
   },
   "outputs": [],
   "source": [
    "# predict on X_Test\n",
    "y_pred = model.predict(X_test.as_matrix())\n",
    "y_pred[:5]"
   ]
  },
  {
   "cell_type": "markdown",
   "metadata": {
    "deletable": true,
    "editable": true
   },
   "source": [
    "Recall that our y_test values just denoted the actual class. We will need to apply an **argmax** function to our predicted values to determine the most probable class"
   ]
  },
  {
   "cell_type": "code",
   "execution_count": null,
   "metadata": {
    "collapsed": false,
    "deletable": true,
    "editable": true
   },
   "outputs": [],
   "source": [
    "predicted_classes = pd.DataFrame(y_pred).apply(np.argmax, axis=1)\n",
    "predicted_classes.values"
   ]
  },
  {
   "cell_type": "code",
   "execution_count": null,
   "metadata": {
    "collapsed": false,
    "deletable": true,
    "editable": true
   },
   "outputs": [],
   "source": [
    "# compare 2 arrays\n",
    "accuracy_score(y_test,predicted_classes)"
   ]
  },
  {
   "cell_type": "code",
   "execution_count": null,
   "metadata": {
    "collapsed": false,
    "deletable": true,
    "editable": true
   },
   "outputs": [],
   "source": [
    "confusion_matrix(y_test, predicted_classes)"
   ]
  },
  {
   "cell_type": "markdown",
   "metadata": {
    "deletable": true,
    "editable": true
   },
   "source": [
    "<a id=\"Save\"></a>\n",
    "## Save Model to DSX Filesystem"
   ]
  },
  {
   "cell_type": "code",
   "execution_count": null,
   "metadata": {
    "collapsed": true,
    "deletable": true,
    "editable": true
   },
   "outputs": [],
   "source": [
    "from dsx_ml.ml import save"
   ]
  },
  {
   "cell_type": "code",
   "execution_count": null,
   "metadata": {
    "collapsed": false,
    "deletable": true,
    "editable": true
   },
   "outputs": [],
   "source": [
    "save(model = model,\n",
    "     name = 'MortgageDefault_Model',\n",
    "     x_test = X_test,\n",
    "     y_test = pd.DataFrame(y_test),\n",
    "     algorithm_type = 'Classification')"
   ]
  },
  {
   "cell_type": "code",
   "execution_count": null,
   "metadata": {
    "collapsed": false,
    "deletable": true,
    "editable": true
   },
   "outputs": [],
   "source": [
    "# Write the test data to a .csv so that we can later use it for Evaluation\n",
    "#writeCSV = pd.concat([X_test, y_test], axis=1, join='inner')\n",
    "#writeCSV.to_csv('../datasets/MortgageDefaultModelEval.csv', sep=',', index=False)"
   ]
  },
  {
   "cell_type": "markdown",
   "metadata": {
    "deletable": true,
    "editable": true
   },
   "source": [
    "### Model Metadata"
   ]
  },
  {
   "cell_type": "code",
   "execution_count": null,
   "metadata": {
    "collapsed": false,
    "deletable": true,
    "editable": true
   },
   "outputs": [],
   "source": [
    "import json\n",
    "import os\n",
    "\n",
    "proj_dir = os.environ['DSX_PROJECT_DIR']\n",
    "\n",
    "with open('{}/models/MortgageDefault_Model/metadata.json'.format(proj_dir),'r') as infile:\n",
    "    metadata_dict = json.load(infile)\n",
    "\n",
    "print(\"Runtime: {}\".format(metadata_dict['runtime']))\n",
    "print(\"Model Type: {}\".format(metadata_dict['type']))\n",
    "print(\"Algorithm: {}\".format(metadata_dict['algorithm']))\n",
    "\n",
    "print(\"Feature(s):\")\n",
    "for feature in metadata_dict['features']:\n",
    "    print('    '+feature['name'])\n",
    "\n",
    "print(\"Latest Model Version: {}\".format(metadata_dict['latestModelVersion']))\n",
    "print(\"Label(s):\")\n",
    "for label in metadata_dict['labelColumns']:\n",
    "    print('    '+label['name'])"
   ]
  },
  {
   "cell_type": "markdown",
   "metadata": {
    "deletable": true,
    "editable": true
   },
   "source": [
    "<a id='Summary'></a>\n",
    "## Summary\n",
    "In this notebook you learned how to create a `Keras` model, evaluate the model numerically and graphically, and save the model in the DSX local environment."
   ]
  },
  {
   "cell_type": "code",
   "execution_count": null,
   "metadata": {
    "collapsed": false,
    "deletable": true,
    "editable": true
   },
   "outputs": [],
   "source": [
    "%%javascript\n",
    "Jupyter.notebook.session.delete();"
   ]
  },
  {
   "cell_type": "markdown",
   "metadata": {
    "deletable": true,
    "editable": true
   },
   "source": [
    "<hr>\n",
    "Copyright © IBM Corp. 2018. This notebook and its source code are released under\n",
    "the terms of the MIT License."
   ]
  }
 ],
 "metadata": {
  "kernelspec": {
   "display_name": "Python2.7",
   "language": "python",
   "name": "py2localspark"
  },
  "language_info": {
   "codemirror_mode": {
    "name": "ipython",
    "version": 2
   },
   "file_extension": ".py",
   "mimetype": "text/x-python",
   "name": "python",
   "nbconvert_exporter": "python",
   "pygments_lexer": "ipython2",
   "version": "2.7.13"
  }
 },
 "nbformat": 4,
 "nbformat_minor": 0
}
